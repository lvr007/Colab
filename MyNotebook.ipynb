{
  "nbformat": 4,
  "nbformat_minor": 0,
  "metadata": {
    "colab": {
      "provenance": [],
      "authorship_tag": "ABX9TyPIgOPDvipkNfLECPy1Nuz7",
      "include_colab_link": true
    },
    "kernelspec": {
      "name": "python3",
      "display_name": "Python 3"
    },
    "language_info": {
      "name": "python"
    }
  },
  "cells": [
    {
      "cell_type": "markdown",
      "metadata": {
        "id": "view-in-github",
        "colab_type": "text"
      },
      "source": [
        "<a href=\"https://colab.research.google.com/github/lvr007/Colab/blob/main/MyNotebook.ipynb\" target=\"_parent\"><img src=\"https://colab.research.google.com/assets/colab-badge.svg\" alt=\"Open In Colab\"/></a>"
      ]
    },
    {
      "cell_type": "code",
      "execution_count": 3,
      "metadata": {
        "colab": {
          "base_uri": "https://localhost:8080/"
        },
        "id": "ELlSg8Uum1Fe",
        "outputId": "5791ed27-eecb-4b38-a4e6-d838b6744a25"
      },
      "outputs": [
        {
          "output_type": "stream",
          "name": "stdout",
          "text": [
            "Hello world!\n"
          ]
        }
      ],
      "source": [
        "print(\"Hello world!\")"
      ]
    },
    {
      "cell_type": "code",
      "source": [
        "print(\"I love Azubi Africa\")"
      ],
      "metadata": {
        "colab": {
          "base_uri": "https://localhost:8080/"
        },
        "id": "9A7g6YeFtQCj",
        "outputId": "918cffb0-e20f-4f7d-b411-0140c7d7ceca"
      },
      "execution_count": 4,
      "outputs": [
        {
          "output_type": "stream",
          "name": "stdout",
          "text": [
            "I love Azubi Africa\n"
          ]
        }
      ]
    },
    {
      "cell_type": "markdown",
      "source": [
        "# String concatenation"
      ],
      "metadata": {
        "id": "2eJqnoaRxSMd"
      }
    },
    {
      "cell_type": "code",
      "source": [
        "## String Concatenation\n",
        "\n",
        "first_name = \"Elvira\"\n",
        "last_name = \"Bamba\"\n",
        "\n",
        "print(\"my name is\" + \" \" + first_name + \" \" + last_name)"
      ],
      "metadata": {
        "colab": {
          "base_uri": "https://localhost:8080/"
        },
        "id": "3OpXY1wUuTlo",
        "outputId": "96a99c8b-b305-417b-bcd7-2e4259236814"
      },
      "execution_count": 9,
      "outputs": [
        {
          "output_type": "stream",
          "name": "stdout",
          "text": [
            "my name is Elvira Bamba\n"
          ]
        }
      ]
    },
    {
      "cell_type": "markdown",
      "source": [
        "##f-strings"
      ],
      "metadata": {
        "id": "hs1LZoAQxn8S"
      }
    },
    {
      "cell_type": "code",
      "source": [
        "first_name = \"Elvira\"\n",
        "last_name = \"Bamba\"\n",
        "\n",
        "print(f'my name is {first_name} {last_name}')"
      ],
      "metadata": {
        "colab": {
          "base_uri": "https://localhost:8080/"
        },
        "id": "VOrXTIH1tco6",
        "outputId": "06539943-36f0-4a1f-d414-7e6f01a9100c"
      },
      "execution_count": 12,
      "outputs": [
        {
          "output_type": "stream",
          "name": "stdout",
          "text": [
            "my name is Elvira Bamba\n"
          ]
        }
      ]
    },
    {
      "cell_type": "markdown",
      "source": [
        "# Numbers\n"
      ],
      "metadata": {
        "id": "eDi19zVR4vHd"
      }
    },
    {
      "cell_type": "code",
      "source": [
        "2 + 2\n"
      ],
      "metadata": {
        "colab": {
          "base_uri": "https://localhost:8080/"
        },
        "id": "KDKf5X9j4zAg",
        "outputId": "a58dd695-12c3-42ee-f41e-178584307039"
      },
      "execution_count": 13,
      "outputs": [
        {
          "output_type": "execute_result",
          "data": {
            "text/plain": [
              "4"
            ]
          },
          "metadata": {},
          "execution_count": 13
        }
      ]
    },
    {
      "cell_type": "code",
      "source": [
        "name = 'Azubi'\n",
        "age = '5'\n",
        "\n",
        "print(f'Hello world my name is {name}. I am {age} years old.')"
      ],
      "metadata": {
        "colab": {
          "base_uri": "https://localhost:8080/"
        },
        "id": "3Vm8E2nu4-DD",
        "outputId": "faa4f02f-27f1-48d9-b1a3-d0be5a74b7d9"
      },
      "execution_count": 15,
      "outputs": [
        {
          "output_type": "stream",
          "name": "stdout",
          "text": [
            "Hello world my name is Azubi. I am 5 years old.\n"
          ]
        }
      ]
    },
    {
      "cell_type": "markdown",
      "source": [
        "# Final project"
      ],
      "metadata": {
        "id": "QE4XQW3v6Ccr"
      }
    },
    {
      "cell_type": "code",
      "source": [
        "name = input('Hey you, please enter your name: ')\n",
        "\n",
        "age = input('Hey you, now please enter your age : ')\n",
        "\n",
        "print(f'Hey {name}, your age is {age}')"
      ],
      "metadata": {
        "colab": {
          "base_uri": "https://localhost:8080/"
        },
        "id": "ggARHMjP6ILF",
        "outputId": "d7e58462-9f07-4119-8301-5be9b7853bf0"
      },
      "execution_count": 18,
      "outputs": [
        {
          "output_type": "stream",
          "name": "stdout",
          "text": [
            "Hey you, please enter your name: Elvivi\n",
            "Hey you, now please enter your age : 26\n",
            "Hey Elvivi, your age is 26\n"
          ]
        }
      ]
    },
    {
      "cell_type": "markdown",
      "source": [],
      "metadata": {
        "id": "Ia2bNIoh5-cr"
      }
    }
  ]
}