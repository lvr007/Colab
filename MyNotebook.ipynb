{
  "nbformat": 4,
  "nbformat_minor": 0,
  "metadata": {
    "colab": {
      "provenance": [],
      "authorship_tag": "ABX9TyPLUTqT54Cx/2aMy2gpYrg/",
      "include_colab_link": true
    },
    "kernelspec": {
      "name": "python3",
      "display_name": "Python 3"
    },
    "language_info": {
      "name": "python"
    }
  },
  "cells": [
    {
      "cell_type": "markdown",
      "metadata": {
        "id": "view-in-github",
        "colab_type": "text"
      },
      "source": [
        "<a href=\"https://colab.research.google.com/github/lvr007/Colab/blob/main/MyNotebook.ipynb\" target=\"_parent\"><img src=\"https://colab.research.google.com/assets/colab-badge.svg\" alt=\"Open In Colab\"/></a>"
      ]
    },
    {
      "cell_type": "code",
      "execution_count": 3,
      "metadata": {
        "colab": {
          "base_uri": "https://localhost:8080/"
        },
        "id": "ELlSg8Uum1Fe",
        "outputId": "5791ed27-eecb-4b38-a4e6-d838b6744a25"
      },
      "outputs": [
        {
          "output_type": "stream",
          "name": "stdout",
          "text": [
            "Hello world!\n"
          ]
        }
      ],
      "source": [
        "print(\"Hello world!\")"
      ]
    },
    {
      "cell_type": "code",
      "source": [
        "print(\"I love Azubi Africa\")"
      ],
      "metadata": {
        "colab": {
          "base_uri": "https://localhost:8080/"
        },
        "id": "9A7g6YeFtQCj",
        "outputId": "918cffb0-e20f-4f7d-b411-0140c7d7ceca"
      },
      "execution_count": 4,
      "outputs": [
        {
          "output_type": "stream",
          "name": "stdout",
          "text": [
            "I love Azubi Africa\n"
          ]
        }
      ]
    },
    {
      "cell_type": "markdown",
      "source": [
        "# String concatenation"
      ],
      "metadata": {
        "id": "2eJqnoaRxSMd"
      }
    },
    {
      "cell_type": "code",
      "source": [
        "## String Concatenation\n",
        "\n",
        "first_name = \"Elvira\"\n",
        "last_name = \"Bamba\"\n",
        "\n",
        "print(\"my name is\" + \" \" + first_name + \" \" + last_name)"
      ],
      "metadata": {
        "colab": {
          "base_uri": "https://localhost:8080/"
        },
        "id": "3OpXY1wUuTlo",
        "outputId": "96a99c8b-b305-417b-bcd7-2e4259236814"
      },
      "execution_count": 9,
      "outputs": [
        {
          "output_type": "stream",
          "name": "stdout",
          "text": [
            "my name is Elvira Bamba\n"
          ]
        }
      ]
    },
    {
      "cell_type": "markdown",
      "source": [
        "##f-strings"
      ],
      "metadata": {
        "id": "hs1LZoAQxn8S"
      }
    },
    {
      "cell_type": "code",
      "source": [
        "first_name = \"Elvira\"\n",
        "last_name = \"Bamba\"\n",
        "\n",
        "print(f'my name is {first_name} {last_name}')"
      ],
      "metadata": {
        "colab": {
          "base_uri": "https://localhost:8080/"
        },
        "id": "VOrXTIH1tco6",
        "outputId": "06539943-36f0-4a1f-d414-7e6f01a9100c"
      },
      "execution_count": 12,
      "outputs": [
        {
          "output_type": "stream",
          "name": "stdout",
          "text": [
            "my name is Elvira Bamba\n"
          ]
        }
      ]
    },
    {
      "cell_type": "markdown",
      "source": [
        "# Numbers\n"
      ],
      "metadata": {
        "id": "eDi19zVR4vHd"
      }
    },
    {
      "cell_type": "code",
      "source": [
        "2 + 2\n"
      ],
      "metadata": {
        "colab": {
          "base_uri": "https://localhost:8080/"
        },
        "id": "KDKf5X9j4zAg",
        "outputId": "a58dd695-12c3-42ee-f41e-178584307039"
      },
      "execution_count": 13,
      "outputs": [
        {
          "output_type": "execute_result",
          "data": {
            "text/plain": [
              "4"
            ]
          },
          "metadata": {},
          "execution_count": 13
        }
      ]
    },
    {
      "cell_type": "code",
      "source": [
        "name = 'Azubi'\n",
        "age = '5'\n",
        "\n",
        "print(f'Hello world my name is {name}. I am {age} years old.')"
      ],
      "metadata": {
        "colab": {
          "base_uri": "https://localhost:8080/"
        },
        "id": "3Vm8E2nu4-DD",
        "outputId": "faa4f02f-27f1-48d9-b1a3-d0be5a74b7d9"
      },
      "execution_count": 15,
      "outputs": [
        {
          "output_type": "stream",
          "name": "stdout",
          "text": [
            "Hello world my name is Azubi. I am 5 years old.\n"
          ]
        }
      ]
    },
    {
      "cell_type": "markdown",
      "source": [
        "# Final project"
      ],
      "metadata": {
        "id": "QE4XQW3v6Ccr"
      }
    },
    {
      "cell_type": "code",
      "source": [
        "name = input('Hey you, please enter your name: ')\n",
        "\n",
        "age = input('Hey you, now please enter your age : ')\n",
        "\n",
        "print(f'Hey {name}, your age is {age}')"
      ],
      "metadata": {
        "colab": {
          "base_uri": "https://localhost:8080/"
        },
        "id": "ggARHMjP6ILF",
        "outputId": "d7e58462-9f07-4119-8301-5be9b7853bf0"
      },
      "execution_count": 18,
      "outputs": [
        {
          "output_type": "stream",
          "name": "stdout",
          "text": [
            "Hey you, please enter your name: Elvivi\n",
            "Hey you, now please enter your age : 26\n",
            "Hey Elvivi, your age is 26\n"
          ]
        }
      ]
    },
    {
      "cell_type": "markdown",
      "source": [
        "#formated text\n"
      ],
      "metadata": {
        "id": "8rJLKuYI-JmA"
      }
    },
    {
      "cell_type": "markdown",
      "source": [],
      "metadata": {
        "id": "Ia2bNIoh5-cr"
      }
    },
    {
      "cell_type": "code",
      "source": [
        "origin, actual_country = \"Cote d'ivoire\", \"Canada\"\n",
        "\n",
        "print('Hello, I am from {}, and I live in {}.'.format (origin, actual_country))"
      ],
      "metadata": {
        "colab": {
          "base_uri": "https://localhost:8080/"
        },
        "id": "p86MFbVg-OUM",
        "outputId": "93278aff-2ed4-4e8d-a0ab-97f840f9c3df"
      },
      "execution_count": 22,
      "outputs": [
        {
          "output_type": "stream",
          "name": "stdout",
          "text": [
            "Hello, I am from Cote d'ivoire, and I live in Canada.\n"
          ]
        }
      ]
    },
    {
      "cell_type": "markdown",
      "source": [
        "##Input"
      ],
      "metadata": {
        "id": "X4FZgecF_szf"
      }
    },
    {
      "cell_type": "code",
      "source": [
        "typed_value = input(\"Please type your height (in cm) :\")\n",
        "\n",
        "print(f\"Your height is: {typed_value} cm\")"
      ],
      "metadata": {
        "colab": {
          "base_uri": "https://localhost:8080/"
        },
        "id": "0AXfQ_Nl_woO",
        "outputId": "453f209b-b01d-4969-9144-2769d6eeac91"
      },
      "execution_count": 24,
      "outputs": [
        {
          "output_type": "stream",
          "name": "stdout",
          "text": [
            "Please type your height (in cm) :162\n",
            "Your height is: 162 cm\n"
          ]
        }
      ]
    },
    {
      "cell_type": "code",
      "source": [
        "typed_full_name = input(\"please type your full name\")"
      ],
      "metadata": {
        "id": "mI4eRdVGAo0c"
      },
      "execution_count": null,
      "outputs": []
    },
    {
      "cell_type": "markdown",
      "source": [
        "# Final project\n",
        "\n"
      ],
      "metadata": {
        "id": "hsi132K9kbKf"
      }
    },
    {
      "cell_type": "code",
      "source": [
        "# Ask the user for the total amount\n",
        "amount = int(input(\"please enter the billed amount:\"))\n",
        "\n",
        "#Ask the user the percentage of tip they would like to give\n",
        "tip_perc = float(input(\"please enter your tip percentage as a fraction: \"))\n",
        "\n",
        "# How many people will split the bill\n",
        "no_of_people = int(input(\"please enter the number of people who will split the bill: \"))\n",
        "\n",
        "# Calculate the total amount due\n",
        "total_amount = (1 + tip_perc)* amount\n",
        "\n",
        "# How much each person should pay\n",
        "amount_per_person = total_amount/no_of_people\n",
        "\n",
        "print(f\"Hi Team each person should pay {amount_per_person}\")"
      ],
      "metadata": {
        "colab": {
          "base_uri": "https://localhost:8080/"
        },
        "id": "wIkFTLe7kee-",
        "outputId": "f151fbc2-5314-414f-bc0d-80850a4be339"
      },
      "execution_count": 29,
      "outputs": [
        {
          "output_type": "stream",
          "name": "stdout",
          "text": [
            "please enter the billed amount:100\n",
            "please enter your tip percentage as a fraction: 0.05\n",
            "please enter the number of people who will split the bill: 5\n",
            "Hi Team each person should pay 21.0\n"
          ]
        }
      ]
    }
  ]
}